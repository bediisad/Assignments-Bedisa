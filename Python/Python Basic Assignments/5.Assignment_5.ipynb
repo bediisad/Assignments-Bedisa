{
 "cells": [
  {
   "cell_type": "markdown",
   "id": "f35f989a",
   "metadata": {},
   "source": [
    "<b>Assignment 5 Solution :<center>Name:  Bedisa Das<br>Date: 26/2/2022 </center>\n"
   ]
  },
  {
   "cell_type": "markdown",
   "id": "35335282",
   "metadata": {},
   "source": [
    "<b>1.What does an empty dictionary's code look like?</b>\n"
   ]
  },
  {
   "cell_type": "markdown",
   "id": "79266843",
   "metadata": {},
   "source": [
    "<b>Ans:</b> An empty dictionary is often represented by two empty curly brackets.<br>\n",
    "`d = {}` or `d = dict()`"
   ]
  },
  {
   "cell_type": "code",
   "execution_count": 3,
   "id": "be7baeca",
   "metadata": {},
   "outputs": [
    {
     "data": {
      "text/plain": [
       "dict"
      ]
     },
     "execution_count": 3,
     "metadata": {},
     "output_type": "execute_result"
    }
   ],
   "source": [
    "d={}\n",
    "type(d)"
   ]
  },
  {
   "cell_type": "code",
   "execution_count": 4,
   "id": "219c58fc",
   "metadata": {},
   "outputs": [
    {
     "data": {
      "text/plain": [
       "dict"
      ]
     },
     "execution_count": 4,
     "metadata": {},
     "output_type": "execute_result"
    }
   ],
   "source": [
    "d1=dict()\n",
    "type(d1)"
   ]
  },
  {
   "cell_type": "markdown",
   "id": "7aa4c876",
   "metadata": {},
   "source": [
    "<b>2.what is the value of dictionary value with key 'foo' and the value 42 ?</b>\n"
   ]
  },
  {
   "cell_type": "markdown",
   "id": "bc0cfdd2",
   "metadata": {},
   "source": [
    "<b>Ans:</b> `d={'foo':42}`\n",
    "The Value of dictionary with Key 'foo' is 42.\n"
   ]
  },
  {
   "cell_type": "code",
   "execution_count": 6,
   "id": "61ace2ed",
   "metadata": {},
   "outputs": [],
   "source": [
    "d={'foo':42}"
   ]
  },
  {
   "cell_type": "code",
   "execution_count": 8,
   "id": "4407b910",
   "metadata": {},
   "outputs": [
    {
     "data": {
      "text/plain": [
       "42"
      ]
     },
     "execution_count": 8,
     "metadata": {},
     "output_type": "execute_result"
    }
   ],
   "source": [
    "d['foo']"
   ]
  },
  {
   "cell_type": "markdown",
   "id": "3d059831",
   "metadata": {},
   "source": [
    "<b>3.What is the most significant distinction between a dictionary and a list?</b>\n"
   ]
  },
  {
   "cell_type": "markdown",
   "id": "d34f3d6e",
   "metadata": {},
   "source": [
    "<b>Ans:</b> Dictionaries are represented by {} where as listed are represented by [].<br>\n",
    "The Items stored in a dictionary are Unordered , while the items in a list are ordered sequence of object.<br>\n",
    "We access dictionary item via it's KEY, but for list we access via index position."
   ]
  },
  {
   "cell_type": "code",
   "execution_count": 15,
   "id": "87441f99",
   "metadata": {},
   "outputs": [],
   "source": [
    "L1=[1,2,3,4]\n",
    "D1={'K1':1,'K2':2,'K3':3}"
   ]
  },
  {
   "cell_type": "code",
   "execution_count": 18,
   "id": "ed63bfb8",
   "metadata": {},
   "outputs": [
    {
     "name": "stdout",
     "output_type": "stream",
     "text": [
      "1\n",
      "1\n"
     ]
    }
   ],
   "source": [
    "#Accessing the First element of List and Key\n",
    "print(L1[0])\n",
    "print(D1['K1'])"
   ]
  },
  {
   "cell_type": "markdown",
   "id": "47bf9181",
   "metadata": {},
   "source": [
    "<b>4.What happens if you try to access `spam ['foo']` if spam is `{'bar':100}` ?</b>"
   ]
  },
  {
   "cell_type": "markdown",
   "id": "7ffad523",
   "metadata": {},
   "source": [
    "<b>Ans:</b> We will get a KeyError."
   ]
  },
  {
   "cell_type": "code",
   "execution_count": 19,
   "id": "1274f32a",
   "metadata": {},
   "outputs": [
    {
     "ename": "KeyError",
     "evalue": "'foo'",
     "output_type": "error",
     "traceback": [
      "\u001b[1;31m---------------------------------------------------------------------------\u001b[0m",
      "\u001b[1;31mKeyError\u001b[0m                                  Traceback (most recent call last)",
      "\u001b[1;32mC:\\conda_tmp/ipykernel_6784/1717283131.py\u001b[0m in \u001b[0;36m<module>\u001b[1;34m\u001b[0m\n\u001b[0;32m      1\u001b[0m \u001b[0mspam\u001b[0m\u001b[1;33m=\u001b[0m\u001b[1;33m{\u001b[0m\u001b[1;34m'bar'\u001b[0m\u001b[1;33m:\u001b[0m\u001b[1;36m100\u001b[0m\u001b[1;33m}\u001b[0m\u001b[1;33m\u001b[0m\u001b[1;33m\u001b[0m\u001b[0m\n\u001b[1;32m----> 2\u001b[1;33m \u001b[0mspam\u001b[0m\u001b[1;33m[\u001b[0m\u001b[1;34m'foo'\u001b[0m\u001b[1;33m]\u001b[0m\u001b[1;33m\u001b[0m\u001b[1;33m\u001b[0m\u001b[0m\n\u001b[0m",
      "\u001b[1;31mKeyError\u001b[0m: 'foo'"
     ]
    }
   ],
   "source": [
    "spam={'bar':100}\n",
    "spam['foo']"
   ]
  },
  {
   "cell_type": "markdown",
   "id": "90a26357",
   "metadata": {},
   "source": [
    "<b>5.If a dictionary is stored in spam,what is the difference between the expressions 'cat' in spam and 'cat' in spam.keys() ?</b>\n"
   ]
  },
  {
   "cell_type": "markdown",
   "id": "88d55247",
   "metadata": {},
   "source": [
    "<b>Ans:</b>There is no difference . The operator checks whether a value exits as a key in the dictionary or not"
   ]
  },
  {
   "cell_type": "code",
   "execution_count": 21,
   "id": "976c8a8f",
   "metadata": {},
   "outputs": [
    {
     "name": "stdout",
     "output_type": "stream",
     "text": [
      "Cat present in dictionary\n",
      "Cat present in dictionary\n"
     ]
    }
   ],
   "source": [
    "spam={'cat':4}\n",
    "if 'cat' in spam:\n",
    "    print(\"Cat present in dictionary\")\n",
    "if 'cat' in spam.keys():\n",
    "        print(\"Cat present in dictionary\")\n"
   ]
  },
  {
   "cell_type": "markdown",
   "id": "ed83c078",
   "metadata": {},
   "source": [
    "<b>6.if a dictionary is stored in spam,what is the difference between the expressions 'cat' in spam and 'cat' in spam.values()?</b>\n"
   ]
  },
  {
   "cell_type": "markdown",
   "id": "09b5e4e2",
   "metadata": {},
   "source": [
    "<b>Ans:</b>`'cat'` in spam checks whether there is a `'cat'` key in the dictionary, while `'cat'` in `spam.values()` checks whether there is a value 'cat' for one of the keys in spam.\n",
    "\n"
   ]
  },
  {
   "cell_type": "markdown",
   "id": "9a4d908c",
   "metadata": {},
   "source": [
    "<b>7.what is a shortcut for the following code ?</b><br>\n",
    "`if 'color' not in spam:`<br>\n",
    "       `spam['color'] ='black'`"
   ]
  },
  {
   "cell_type": "markdown",
   "id": "724e2c2f",
   "metadata": {},
   "source": [
    "<b>Ans:</b> `spam.setdefault('color','black')`\n",
    "\n"
   ]
  },
  {
   "cell_type": "markdown",
   "id": "f0c30dd6",
   "metadata": {},
   "source": [
    "<b>8.How do you 'pretty print' dictionary values using which modules and function ?</b>\n"
   ]
  },
  {
   "cell_type": "markdown",
   "id": "91c63fd4",
   "metadata": {},
   "source": [
    "<b>Ans:</b> we can pretty print a dictionary using three functions<br>\n",
    "<ol>\n",
    "<li>by using pprint() function of pprint module</li>\n",
    "    <b>Note:</b> pprint() function doesnot prettify nested dictionaries\n",
    "<li>by using dumps() method of json module</li>\n",
    "<li>by using dumps() method of yaml module</li></ol>\n"
   ]
  },
  {
   "cell_type": "code",
   "execution_count": 27,
   "id": "6f05734c",
   "metadata": {},
   "outputs": [
    {
     "name": "stdout",
     "output_type": "stream",
     "text": [
      "Printing using print() function\n",
      " [{'Name': 'Bedisa', 'Age': '29', 'Residence': {'Country': 'India', 'City': 'Kolkata'}}, {'Name': 'Siddharth', 'Age': '32', 'Residence': {'Country': 'India', 'City': 'Durg'}}, {'Name': 'Shrikant', 'Age': '28', 'Residence': {'Country': 'India', 'City': 'Bangalore'}}]\n",
      "----------------------------------------------------------------------------------------------------\n",
      "Printing using pprint() funciton\n",
      "[{'Age': '29',\n",
      "  'Name': 'Bedisa',\n",
      "  'Residence': {'City': 'Kolkata', 'Country': 'India'}},\n",
      " {'Age': '32',\n",
      "  'Name': 'Siddharth',\n",
      "  'Residence': {'City': 'Durg', 'Country': 'India'}},\n",
      " {'Age': '28',\n",
      "  'Name': 'Shrikant',\n",
      "  'Residence': {'City': 'Bangalore', 'Country': 'India'}}]\n",
      "----------------------------------------------------------------------------------------------------\n",
      "Printing using dumps() method\n",
      " [\n",
      "    {\n",
      "        \"Name\": \"Bedisa\",\n",
      "        \"Age\": \"29\",\n",
      "        \"Residence\": {\n",
      "            \"Country\": \"India\",\n",
      "            \"City\": \"Kolkata\"\n",
      "        }\n",
      "    },\n",
      "    {\n",
      "        \"Name\": \"Siddharth\",\n",
      "        \"Age\": \"32\",\n",
      "        \"Residence\": {\n",
      "            \"Country\": \"India\",\n",
      "            \"City\": \"Durg\"\n",
      "        }\n",
      "    },\n",
      "    {\n",
      "        \"Name\": \"Shrikant\",\n",
      "        \"Age\": \"28\",\n",
      "        \"Residence\": {\n",
      "            \"Country\": \"India\",\n",
      "            \"City\": \"Bangalore\"\n",
      "        }\n",
      "    }\n",
      "]\n",
      "----------------------------------------------------------------------------------------------------\n",
      "Printing using dump() method\n",
      " - Age: '29'\n",
      "  Name: Bedisa\n",
      "  Residence:\n",
      "    City: Kolkata\n",
      "    Country: India\n",
      "- Age: '32'\n",
      "  Name: Siddharth\n",
      "  Residence:\n",
      "    City: Durg\n",
      "    Country: India\n",
      "- Age: '28'\n",
      "  Name: Shrikant\n",
      "  Residence:\n",
      "    City: Bangalore\n",
      "    Country: India\n",
      "\n"
     ]
    }
   ],
   "source": [
    "ndict = [\n",
    "  {'Name': 'Bedisa', 'Age': '29', 'Residence': {'Country':'India', 'City': 'Kolkata'}},\n",
    "  {'Name': 'Siddharth', 'Age': '32', 'Residence': {'Country':'India', 'City': 'Durg'}},\n",
    "  {'Name': 'Shrikant', 'Age': '28', 'Residence': {'Country':'India', 'City': 'Bangalore'}},\n",
    "]\n",
    "\n",
    "print('Printing using print() function\\n',ndict)\n",
    "print('-'*100)\n",
    "import pprint\n",
    "print('Printing using pprint() funciton')\n",
    "pprint.pprint(ndict)\n",
    "print('-'*100)\n",
    "import json\n",
    "dump = json.dumps(ndict, indent=4)\n",
    "print('Printing using dumps() method\\n', dump)\n",
    "print('-'*100)\n",
    "import yaml\n",
    "dump = yaml.dump(ndict)\n",
    "print('Printing using dump() method\\n', dump)"
   ]
  },
  {
   "cell_type": "code",
   "execution_count": null,
   "id": "f1e6db83",
   "metadata": {},
   "outputs": [],
   "source": []
  }
 ],
 "metadata": {
  "kernelspec": {
   "display_name": "Python 3 (ipykernel)",
   "language": "python",
   "name": "python3"
  },
  "language_info": {
   "codemirror_mode": {
    "name": "ipython",
    "version": 3
   },
   "file_extension": ".py",
   "mimetype": "text/x-python",
   "name": "python",
   "nbconvert_exporter": "python",
   "pygments_lexer": "ipython3",
   "version": "3.9.7"
  }
 },
 "nbformat": 4,
 "nbformat_minor": 5
}

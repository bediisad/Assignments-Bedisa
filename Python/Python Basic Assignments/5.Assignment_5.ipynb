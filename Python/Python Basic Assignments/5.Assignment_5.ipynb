{
 "cells": [
  {
   "cell_type": "markdown",
   "id": "6339ae06",
   "metadata": {},
   "source": [
    "<b>Assignment 5 Solution :<center>Name:  Bedisa Das<br>Date: 26/2/2022 </center>\n"
   ]
  },
  {
   "cell_type": "markdown",
   "id": "068ecd6b",
   "metadata": {},
   "source": [
    "<b>1.What does an empty dictionary's code look like?</b>\n"
   ]
  },
  {
   "cell_type": "markdown",
   "id": "800d5dfd",
   "metadata": {},
   "source": [
    "<b>Ans:</b> An empty dictionary is often represented by two empty curly brackets.<br>\n",
    "`d = {}` or `d = dict()`"
   ]
  },
  {
   "cell_type": "code",
   "execution_count": 3,
   "id": "03e216de",
   "metadata": {},
   "outputs": [
    {
     "data": {
      "text/plain": [
       "dict"
      ]
     },
     "execution_count": 3,
     "metadata": {},
     "output_type": "execute_result"
    }
   ],
   "source": [
    "d={}\n",
    "type(d)"
   ]
  },
  {
   "cell_type": "code",
   "execution_count": 4,
   "id": "024409ff",
   "metadata": {},
   "outputs": [
    {
     "data": {
      "text/plain": [
       "dict"
      ]
     },
     "execution_count": 4,
     "metadata": {},
     "output_type": "execute_result"
    }
   ],
   "source": [
    "d1=dict()\n",
    "type(d1)"
   ]
  },
  {
   "cell_type": "markdown",
   "id": "eada451d",
   "metadata": {},
   "source": [
    "<b>2.what is the value of dictionary value with key 'foo' and the value 42 ?</b>\n"
   ]
  },
  {
   "cell_type": "markdown",
   "id": "30e4c513",
   "metadata": {},
   "source": [
    "<b>Ans:</b> `d={'foo':42}`\n",
    "The Value of dictionary with Key 'foo' is 42.\n"
   ]
  },
  {
   "cell_type": "code",
   "execution_count": 6,
   "id": "fd50ed26",
   "metadata": {},
   "outputs": [],
   "source": [
    "d={'foo':42}"
   ]
  },
  {
   "cell_type": "code",
   "execution_count": 8,
   "id": "1667db83",
   "metadata": {},
   "outputs": [
    {
     "data": {
      "text/plain": [
       "42"
      ]
     },
     "execution_count": 8,
     "metadata": {},
     "output_type": "execute_result"
    }
   ],
   "source": [
    "d['foo']"
   ]
  },
  {
   "cell_type": "markdown",
   "id": "65579cbf",
   "metadata": {},
   "source": [
    "<b>3.What is the most significant distinction between a dictionary and a list?</b>\n"
   ]
  },
  {
   "cell_type": "markdown",
   "id": "eda990eb",
   "metadata": {},
   "source": [
    "<b>Ans:</b> Dictionaries are represented by {} where as listed are represented by [].<br>\n",
    "The Items stored in a dictionary are Unordered , while the items in a list are ordered sequence of object.<br>\n",
    "We access dictionary item via it's KEY, but for list we access via index position."
   ]
  },
  {
   "cell_type": "code",
   "execution_count": 15,
   "id": "289c35da",
   "metadata": {},
   "outputs": [],
   "source": [
    "L1=[1,2,3,4]\n",
    "D1={'K1':1,'K2':2,'K3':3}"
   ]
  },
  {
   "cell_type": "code",
   "execution_count": 18,
   "id": "842967a6",
   "metadata": {},
   "outputs": [
    {
     "name": "stdout",
     "output_type": "stream",
     "text": [
      "1\n",
      "1\n"
     ]
    }
   ],
   "source": [
    "#Accessing the First element of List and Key\n",
    "print(L1[0])\n",
    "print(D1['K1'])"
   ]
  },
  {
   "cell_type": "markdown",
   "id": "d38b47be",
   "metadata": {},
   "source": [
    "<b>4.What happens if you try to access `spam ['foo']` if spam is `{'bar':100}` ?</b>"
   ]
  },
  {
   "cell_type": "markdown",
   "id": "ba6b419e",
   "metadata": {},
   "source": [
    "<b>Ans:</b> We will get a KeyError."
   ]
  },
  {
   "cell_type": "code",
   "execution_count": 19,
   "id": "b9d006cf",
   "metadata": {},
   "outputs": [
    {
     "ename": "KeyError",
     "evalue": "'foo'",
     "output_type": "error",
     "traceback": [
      "\u001b[1;31m---------------------------------------------------------------------------\u001b[0m",
      "\u001b[1;31mKeyError\u001b[0m                                  Traceback (most recent call last)",
      "\u001b[1;32mC:\\conda_tmp/ipykernel_6784/1717283131.py\u001b[0m in \u001b[0;36m<module>\u001b[1;34m\u001b[0m\n\u001b[0;32m      1\u001b[0m \u001b[0mspam\u001b[0m\u001b[1;33m=\u001b[0m\u001b[1;33m{\u001b[0m\u001b[1;34m'bar'\u001b[0m\u001b[1;33m:\u001b[0m\u001b[1;36m100\u001b[0m\u001b[1;33m}\u001b[0m\u001b[1;33m\u001b[0m\u001b[1;33m\u001b[0m\u001b[0m\n\u001b[1;32m----> 2\u001b[1;33m \u001b[0mspam\u001b[0m\u001b[1;33m[\u001b[0m\u001b[1;34m'foo'\u001b[0m\u001b[1;33m]\u001b[0m\u001b[1;33m\u001b[0m\u001b[1;33m\u001b[0m\u001b[0m\n\u001b[0m",
      "\u001b[1;31mKeyError\u001b[0m: 'foo'"
     ]
    }
   ],
   "source": [
    "spam={'bar':100}\n",
    "spam['foo']"
   ]
  },
  {
   "cell_type": "markdown",
   "id": "a87ddc93",
   "metadata": {},
   "source": [
    "<b>5.If a dictionary is stored in spam,what is the difference between the expressions 'cat' in spam and 'cat' in spam.keys() ?</b>\n"
   ]
  },
  {
   "cell_type": "markdown",
   "id": "756fba82",
   "metadata": {},
   "source": [
    "<b>Ans:</b>There is no difference . The operator checks whether a value exits as a key in the dictionary or not"
   ]
  },
  {
   "cell_type": "code",
   "execution_count": 21,
   "id": "0c2b9e74",
   "metadata": {},
   "outputs": [
    {
     "name": "stdout",
     "output_type": "stream",
     "text": [
      "Cat present in dictionary\n",
      "Cat present in dictionary\n"
     ]
    }
   ],
   "source": [
    "spam={'cat':4}\n",
    "if 'cat' in spam:\n",
    "    print(\"Cat present in dictionary\")\n",
    "if 'cat' in spam.keys():\n",
    "        print(\"Cat present in dictionary\")\n"
   ]
  },
  {
   "cell_type": "markdown",
   "id": "f5c207ec",
   "metadata": {},
   "source": [
    "<b>6.if a dictionary is stored in spam,what is the difference between the expressions 'cat' in spam and 'cat' in spam.values()?</b>\n"
   ]
  },
  {
   "cell_type": "markdown",
   "id": "cd277026",
   "metadata": {},
   "source": [
    "<b>Ans:</b>`'cat'` in spam checks whether there is a `'cat'` key in the dictionary, while `'cat'` in `spam.values()` checks whether there is a value 'cat' for one of the keys in spam.\n",
    "\n"
   ]
  },
  {
   "cell_type": "markdown",
   "id": "15afc64d",
   "metadata": {},
   "source": [
    "<b>7.what is a shortcut for the following code ?</b><br>\n",
    "`if 'color' not in spam:`<br>\n",
    "       `spam['color'] ='black'`"
   ]
  },
  {
   "cell_type": "markdown",
   "id": "b5c3d415",
   "metadata": {},
   "source": [
    "<b>Ans:</b> `spam.setdefault('color','black')`\n",
    "\n"
   ]
  },
  {
   "cell_type": "markdown",
   "id": "fadddbd7",
   "metadata": {},
   "source": [
    "<b>8.How do you 'pretty print' dictionary values using which modules and function ?</b>\n"
   ]
  },
  {
   "cell_type": "markdown",
   "id": "16236368",
   "metadata": {},
   "source": [
    "<b>Ans:</b> we can pretty print a dictionary using three functions<br>\n",
    "<ol>\n",
    "<li>by using pprint() function of pprint module</li>\n",
    "    <b>Note:</b> pprint() function doesnot prettify nested dictionaries\n",
    "<li>by using dumps() method of json module</li>\n",
    "<li>by using dumps() method of yaml module</li></ol>\n"
   ]
  },
  {
   "cell_type": "code",
   "execution_count": 25,
   "id": "28907670",
   "metadata": {},
   "outputs": [
    {
     "name": "stdout",
     "output_type": "stream",
     "text": [
      "Printing using print() function\n",
      " [{'Name': 'John', 'Age': '23', 'Residence': {'Country': 'USA', 'City': 'New York'}}, {'Name': 'Jose', 'Age': '44', 'Residence': {'Country': 'Spain', 'City': 'Madrid'}}, {'Name': 'Anne', 'Age': '29', 'Residence': {'Country': 'UK', 'City': 'England'}}, {'Name': 'Lee', 'Age': '35', 'Residence': {'Country': 'Japan', 'City': 'Osaka'}}]\n",
      "----------------------------------------------------------------------\n",
      "Printing using pprint() funciton\n",
      "[{'Age': '23',\n",
      "  'Name': 'John',\n",
      "  'Residence': {'City': 'New York', 'Country': 'USA'}},\n",
      " {'Age': '44',\n",
      "  'Name': 'Jose',\n",
      "  'Residence': {'City': 'Madrid', 'Country': 'Spain'}},\n",
      " {'Age': '29',\n",
      "  'Name': 'Anne',\n",
      "  'Residence': {'City': 'England', 'Country': 'UK'}},\n",
      " {'Age': '35',\n",
      "  'Name': 'Lee',\n",
      "  'Residence': {'City': 'Osaka', 'Country': 'Japan'}}]\n",
      "----------------------------------------------------------------------\n",
      "Printing using dumps() method\n",
      " [\n",
      "    {\n",
      "        \"Name\": \"John\",\n",
      "        \"Age\": \"23\",\n",
      "        \"Residence\": {\n",
      "            \"Country\": \"USA\",\n",
      "            \"City\": \"New York\"\n",
      "        }\n",
      "    },\n",
      "    {\n",
      "        \"Name\": \"Jose\",\n",
      "        \"Age\": \"44\",\n",
      "        \"Residence\": {\n",
      "            \"Country\": \"Spain\",\n",
      "            \"City\": \"Madrid\"\n",
      "        }\n",
      "    },\n",
      "    {\n",
      "        \"Name\": \"Anne\",\n",
      "        \"Age\": \"29\",\n",
      "        \"Residence\": {\n",
      "            \"Country\": \"UK\",\n",
      "            \"City\": \"England\"\n",
      "        }\n",
      "    },\n",
      "    {\n",
      "        \"Name\": \"Lee\",\n",
      "        \"Age\": \"35\",\n",
      "        \"Residence\": {\n",
      "            \"Country\": \"Japan\",\n",
      "            \"City\": \"Osaka\"\n",
      "        }\n",
      "    }\n",
      "]\n",
      "----------------------------------------------------------------------\n",
      "Printing using dump() method\n",
      " - Age: '23'\n",
      "  Name: John\n",
      "  Residence:\n",
      "    City: New York\n",
      "    Country: USA\n",
      "- Age: '44'\n",
      "  Name: Jose\n",
      "  Residence:\n",
      "    City: Madrid\n",
      "    Country: Spain\n",
      "- Age: '29'\n",
      "  Name: Anne\n",
      "  Residence:\n",
      "    City: England\n",
      "    Country: UK\n",
      "- Age: '35'\n",
      "  Name: Lee\n",
      "  Residence:\n",
      "    City: Osaka\n",
      "    Country: Japan\n",
      "\n"
     ]
    }
   ],
   "source": [
    "ndict = [\n",
    "  {'Name': 'Bedisa', 'Age': '29', 'Residence': {'Country':'India', 'City': 'Kolkata'}},\n",
    "  {'Name': 'Siddharth', 'Age': '32', 'Residence': {'Country':'India', 'City': 'Durg'}},\n",
    "  {'Name': 'Shrikant', 'Age': '29', 'Residence': {'Country':'India', 'City': 'Bangalore'}},\n",
    "]\n",
    "\n",
    "print('Printing using print() function\\n',ndict)\n",
    "print('-'*70)\n",
    "import pprint\n",
    "print('Printing using pprint() funciton')\n",
    "pprint.pprint(ndict)\n",
    "print('-'*70)\n",
    "import json\n",
    "dump = json.dumps(ndict, indent=4)\n",
    "print('Printing using dumps() method\\n', dump)\n",
    "print('-'*70)\n",
    "import yaml\n",
    "dump = yaml.dump(ndict)\n",
    "print('Printing using dump() method\\n', dump)"
   ]
  },
  {
   "cell_type": "code",
   "execution_count": null,
   "id": "2310cd74",
   "metadata": {},
   "outputs": [],
   "source": []
  }
 ],
 "metadata": {
  "kernelspec": {
   "display_name": "Python 3 (ipykernel)",
   "language": "python",
   "name": "python3"
  },
  "language_info": {
   "codemirror_mode": {
    "name": "ipython",
    "version": 3
   },
   "file_extension": ".py",
   "mimetype": "text/x-python",
   "name": "python",
   "nbconvert_exporter": "python",
   "pygments_lexer": "ipython3",
   "version": "3.9.7"
  }
 },
 "nbformat": 4,
 "nbformat_minor": 5
}

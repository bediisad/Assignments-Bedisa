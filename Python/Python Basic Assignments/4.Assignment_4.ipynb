{
 "cells": [
  {
   "cell_type": "markdown",
   "id": "a7777cf6",
   "metadata": {},
   "source": [
    "<b>Assignment 4 Solution :<center>Name:  Bedisa Das<br>Date: 22/2/2022 </center>\n"
   ]
  },
  {
   "cell_type": "markdown",
   "id": "a8b5d90b",
   "metadata": {},
   "source": [
    "<b>1.What exactly is `[ ]` ?</b>\n"
   ]
  },
  {
   "cell_type": "markdown",
   "id": "bdc89de4",
   "metadata": {},
   "source": [
    "<b>Ans:</b> The empty list represented by `[ ]` is a list that contains no items. "
   ]
  },
  {
   "cell_type": "code",
   "execution_count": 5,
   "id": "d5cf7555",
   "metadata": {},
   "outputs": [
    {
     "name": "stdout",
     "output_type": "stream",
     "text": [
      "[] <class 'list'>\n"
     ]
    }
   ],
   "source": [
    "#Example\n",
    "empty_list=[]\n",
    "print(empty_list,type(empty_list))"
   ]
  },
  {
   "cell_type": "markdown",
   "id": "fc31c1a0",
   "metadata": {},
   "source": [
    "<b>2.In a list of values stored in a variable called spam, how would you assign the value 'hello' as the third value? (Assume [2, 4, 6, 8, 10] are in spam.)</b>"
   ]
  },
  {
   "cell_type": "markdown",
   "id": "e0cf2ed3",
   "metadata": {},
   "source": [
    "<b>Ans:</b> `spam[2]='hello'` (Note: Lists follows zero based indexing)"
   ]
  },
  {
   "cell_type": "code",
   "execution_count": 11,
   "id": "82ce42e3",
   "metadata": {},
   "outputs": [
    {
     "name": "stdout",
     "output_type": "stream",
     "text": [
      "[2, 4, 6, 8, 10]\n",
      "[2, 4, 'hello', 8, 10]\n"
     ]
    }
   ],
   "source": [
    "#Example\n",
    "spam=[2,4,6,8,10]\n",
    "print(spam)\n",
    "spam[2]=\"hello\"\n",
    "print(spam)"
   ]
  },
  {
   "cell_type": "markdown",
   "id": "55c49a13",
   "metadata": {},
   "source": [
    "<b>Let's pretend the spam includes the list ['a','b','c',d'] for the next three queries.<br>\n",
    "3. What is the value of spam[int(int('3'*2)//11)] ?</b>"
   ]
  },
  {
   "cell_type": "markdown",
   "id": "fa841cc0",
   "metadata": {},
   "source": [
    "<b>Ans:</b> `'d'` (Note that '3' * 2 is the string '33', which is passed to int() before being divided by 11. This eventually evaluates to 3, `spam[3]` is equal to d.)\n",
    "\n"
   ]
  },
  {
   "cell_type": "code",
   "execution_count": 13,
   "id": "95971925",
   "metadata": {},
   "outputs": [
    {
     "name": "stdout",
     "output_type": "stream",
     "text": [
      "spam[int(int('3'*2)//11)] -> d\n"
     ]
    }
   ],
   "source": [
    "spam=['a','b','c','d']\n",
    "print(\"spam[int(int('3'*2)//11)] ->\",spam[int(int('3'*2)//11)])"
   ]
  },
  {
   "cell_type": "markdown",
   "id": "85fbcc9c",
   "metadata": {},
   "source": [
    "<b>4. What is the value of spam[-1]?</b>"
   ]
  },
  {
   "cell_type": "markdown",
   "id": "632477b0",
   "metadata": {},
   "source": [
    "<b>Ans:</b> `'d'` (Lists support Negative indexing, Hence spam[-1] returs 'd', which is the last element of the list.)<br>\n",
    "Negative Indexing starts from the end of the list with the index `-1`.\n"
   ]
  },
  {
   "cell_type": "code",
   "execution_count": 15,
   "id": "95becb79",
   "metadata": {},
   "outputs": [
    {
     "name": "stdout",
     "output_type": "stream",
     "text": [
      "spam[-1] ->  d\n"
     ]
    }
   ],
   "source": [
    "spam=['a','b','c','d']\n",
    "print('spam[-1] -> ',spam[-1])"
   ]
  },
  {
   "cell_type": "markdown",
   "id": "64de0203",
   "metadata": {},
   "source": [
    "<b>5. What is the value of `spam[:2]` ?</b>"
   ]
  },
  {
   "cell_type": "markdown",
   "id": "6af40ba9",
   "metadata": {},
   "source": [
    "<b>Ans:</b> `spam[:2]` returns all elements in the list spam from 0th  to 2nd index  excluding 2nd index\n",
    "\n"
   ]
  },
  {
   "cell_type": "code",
   "execution_count": 18,
   "id": "fc9f98aa",
   "metadata": {},
   "outputs": [
    {
     "name": "stdout",
     "output_type": "stream",
     "text": [
      "['a', 'b', 'c', 'd']\n",
      "['a', 'b']\n"
     ]
    }
   ],
   "source": [
    "print(spam)\n",
    "print(spam[:2])"
   ]
  },
  {
   "cell_type": "markdown",
   "id": "6f5c50a2",
   "metadata": {},
   "source": [
    "<b>Let's pretend bacon has the list [3.14,'cat',11,'cat',True] for the next three question.<br>\n",
    "6. What is the value of bacon.index('cat')?</b>"
   ]
  },
  {
   "cell_type": "markdown",
   "id": "2962f2ea",
   "metadata": {},
   "source": [
    "<b>Ans:</b> The value of` bacon.index('cat')` is `1` (Note: index method returns the index of first occuerence of 'cat')"
   ]
  },
  {
   "cell_type": "code",
   "execution_count": 25,
   "id": "cc1dfbe3",
   "metadata": {},
   "outputs": [
    {
     "name": "stdout",
     "output_type": "stream",
     "text": [
      "bacon.index('cat') -> 1\n"
     ]
    }
   ],
   "source": [
    "bacon=[3.14,'cat',11,'cat',True]\n",
    "print(\"bacon.index('cat') ->\",bacon.index('cat'))"
   ]
  },
  {
   "cell_type": "markdown",
   "id": "699b1313",
   "metadata": {},
   "source": [
    "<b>7. How does `bacon.append(99)` change the look of the list value in bacon?</b>\n"
   ]
  },
  {
   "cell_type": "markdown",
   "id": "e5d2457e",
   "metadata": {},
   "source": [
    "<b>Ans:</b> The append method adds new elements to the end of the list."
   ]
  },
  {
   "cell_type": "code",
   "execution_count": 26,
   "id": "1fc2c089",
   "metadata": {},
   "outputs": [
    {
     "name": "stdout",
     "output_type": "stream",
     "text": [
      "[3.14, 'cat', 11, 'cat', True]\n",
      "[3.14, 'cat', 11, 'cat', True, 99]\n"
     ]
    }
   ],
   "source": [
    "# Example\n",
    "print(bacon)\n",
    "bacon.append(99) # appends 99 to the end of the list\n",
    "print(bacon)"
   ]
  },
  {
   "cell_type": "markdown",
   "id": "c750cf50",
   "metadata": {},
   "source": [
    "<b>8. How does bacon.remove('cat') change the look of the list in bacon?</b>\n"
   ]
  },
  {
   "cell_type": "markdown",
   "id": "07fa57b9",
   "metadata": {},
   "source": [
    "<b>Ans:</b> The remove method removes the first occurence of the element in the list"
   ]
  },
  {
   "cell_type": "code",
   "execution_count": 28,
   "id": "2bc168b8",
   "metadata": {},
   "outputs": [
    {
     "name": "stdout",
     "output_type": "stream",
     "text": [
      "[3.14, 'cat', 11, 'cat', True, 99]\n",
      "[3.14, 11, 'cat', True, 99]\n"
     ]
    }
   ],
   "source": [
    "print(bacon)\n",
    "bacon.remove('cat')\n",
    "print(bacon)"
   ]
  },
  {
   "cell_type": "markdown",
   "id": "bea6dc01",
   "metadata": {},
   "source": [
    "<b>9.what are the list concatenation and list replication operations?</b>\n"
   ]
  },
  {
   "cell_type": "markdown",
   "id": "98813459",
   "metadata": {},
   "source": [
    "<b>Ans:</b> The operator for list concatenation is `+`, while the operator for replication is `*`. (This is the same as for strings.)"
   ]
  },
  {
   "cell_type": "code",
   "execution_count": 31,
   "id": "111a6230",
   "metadata": {},
   "outputs": [
    {
     "name": "stdout",
     "output_type": "stream",
     "text": [
      "['A', 'B', 'C', 'D', 'E', 'F', 'G', 'H']\n",
      "['A', 'B', 'C', 'D', 'E', 'A', 'B', 'C', 'D', 'E']\n",
      "['F', 'G', 'H', 'F', 'G', 'H']\n"
     ]
    }
   ],
   "source": [
    "# Example\n",
    "list_1 = ['A','B','C','D','E']\n",
    "list_2 = ['F','G','H']\n",
    "print(list_1 + list_2) # List Concatenation\n",
    "print(list_1+list_1)# List Concatenation\n",
    "print(list_2*2) # List Replication"
   ]
  },
  {
   "cell_type": "markdown",
   "id": "1157a197",
   "metadata": {},
   "source": [
    "<b>10.what is the difference between the list method append() and insert()?</b>"
   ]
  },
  {
   "cell_type": "markdown",
   "id": "c8743759",
   "metadata": {},
   "source": [
    "<b>Ans:</b> `append()`add values only to the end of a list, `insert()` can add them anywhere in the list particulary it inserts specified value in the specified position as mention in the argument.\n",
    "\n"
   ]
  },
  {
   "cell_type": "code",
   "execution_count": 35,
   "id": "a6102a07",
   "metadata": {},
   "outputs": [
    {
     "name": "stdout",
     "output_type": "stream",
     "text": [
      "[1, 2, 3, 4, 5]\n",
      "After appending 6:\n",
      "[1, 2, 3, 4, 5, 6]\n",
      "After inserting 0 in the first position:\n",
      "[0, 1, 2, 3, 4, 5, 6]\n"
     ]
    }
   ],
   "source": [
    "#Examples\n",
    "list1 = [1,2,3,4,5]\n",
    "print(list1)\n",
    "list1.append(6)\n",
    "print(\"After appending 6:\")\n",
    "print(list1)\n",
    "list1.insert(0,0)\n",
    "print(\"After inserting 0 in the first position:\")\n",
    "print(list1)"
   ]
  },
  {
   "cell_type": "markdown",
   "id": "bd686e94",
   "metadata": {},
   "source": [
    "<b>11. What are the two methods for removing items from a list?</b>"
   ]
  },
  {
   "cell_type": "markdown",
   "id": "043034e0",
   "metadata": {},
   "source": [
    "<b>Ans:</b> The `del` statement and the `remove()` method are two ways to remove values from a list.<br>\n",
    "`del` is python keyword , it can delete element from specific index.<br>\n",
    "python list has `remove` function , it removes the first matching element from the list .<br>"
   ]
  },
  {
   "cell_type": "code",
   "execution_count": 50,
   "id": "557c45ef",
   "metadata": {},
   "outputs": [
    {
     "name": "stdout",
     "output_type": "stream",
     "text": [
      "[1, 2, 3, 4, 5]\n",
      "[1, 3, 4, 5]\n",
      "[1, 3, 4]\n"
     ]
    }
   ],
   "source": [
    "#Examples\n",
    "list1 = [1,2,3,4,5]\n",
    "print(list1)\n",
    "del list1[1]\n",
    "print(list1)\n",
    "list1.remove(5)\n",
    "print(list1)"
   ]
  },
  {
   "cell_type": "markdown",
   "id": "1af0f8c1",
   "metadata": {},
   "source": [
    "<b>12. Describe how list values and string values are identical.</b>\n"
   ]
  },
  {
   "cell_type": "markdown",
   "id": "01e17ab4",
   "metadata": {},
   "source": [
    "<b>Ans:</b> Both lists and strings can be passed to len() function, have indexes and slices, be used in for loops, be concatenated or replicated, and be used with the in and not in operators."
   ]
  },
  {
   "cell_type": "markdown",
   "id": "2cdd592d",
   "metadata": {},
   "source": [
    "<b>13. What's the difference between tuples and lists?</B>"
   ]
  },
  {
   "cell_type": "markdown",
   "id": "a7cb0351",
   "metadata": {},
   "source": [
    "<b>Ans:</b> Lists are `Mutable`. they can have values `added`, `removed`, or `changed`.<br> \n",
    "Tuples are `Immutable`, the tuple values cannot be changed at all. Also, tuples are represented using parentheses `()`, while lists use the square brackets `[ ]`.<br>\n",
    "Tuples have 2 inbuilt functions `count()` and `index()`.<br>\n",
    "Lists have many inbuilt functions `append()`,`insert()`,`remove()`, `pop()` ,`reverse()` ,`sort()` ,`extend()`, `clear()`, `copy()`, `count()`, `index()` "
   ]
  },
  {
   "cell_type": "code",
   "execution_count": 52,
   "id": "00170768",
   "metadata": {},
   "outputs": [
    {
     "name": "stdout",
     "output_type": "stream",
     "text": [
      "This is tuple (1, 2, 3, 4, 5) <class 'tuple'>\n",
      "This is list [1, 2, 3, 4, 5] <class 'list'>\n"
     ]
    }
   ],
   "source": [
    "tup=(1,2,3,4,5)\n",
    "print(\"This is tuple\", tup, type(tup))\n",
    "list1=[1,2,3,4,5]\n",
    "print(\"This is list\",list1,type(list1))\n"
   ]
  },
  {
   "cell_type": "markdown",
   "id": "10e18f95",
   "metadata": {},
   "source": [
    "<b>14. How do you type a tuple value that only contains the integer 42?</b>\n"
   ]
  },
  {
   "cell_type": "markdown",
   "id": "70bebf82",
   "metadata": {},
   "source": [
    "<b>Ans:</b> `(42,)` (The trailing comma is mandatory. otherwise its considered as a int by python Interpreter)\n",
    "\n"
   ]
  },
  {
   "cell_type": "code",
   "execution_count": 45,
   "id": "6189c1f8",
   "metadata": {},
   "outputs": [
    {
     "name": "stdout",
     "output_type": "stream",
     "text": [
      "<class 'int'>\n",
      "<class 'tuple'>\n"
     ]
    }
   ],
   "source": [
    "tup1=(42)\n",
    "tup2=(42,)\n",
    "print(type(tup1))\n",
    "print(type(tup2))"
   ]
  },
  {
   "cell_type": "markdown",
   "id": "04dec86f",
   "metadata": {},
   "source": [
    "<b>15. How do you get a list value's tuple form? How do you get a tuple value's list form?</b>\n"
   ]
  },
  {
   "cell_type": "markdown",
   "id": "69ef9f50",
   "metadata": {},
   "source": [
    "<b>Ans:</b> The tuple() and list() functions, respectively are used to convert a list to tuple and vice versa\n",
    "\n"
   ]
  },
  {
   "cell_type": "code",
   "execution_count": 58,
   "id": "92995d50",
   "metadata": {},
   "outputs": [
    {
     "name": "stdout",
     "output_type": "stream",
     "text": [
      "Converting tuple to list\n",
      "<class 'tuple'>\n",
      "(1, 2, 3, 4)\n",
      "<class 'list'>\n",
      "[1, 2, 3, 4]\n"
     ]
    }
   ],
   "source": [
    "print(\"Converting tuple to list\")\n",
    "tup1=(1,2,3,4)\n",
    "print(type(tup1))\n",
    "print(tup1)\n",
    "l1=list(tup1)\n",
    "print(type(l1))\n",
    "print(l1)\n"
   ]
  },
  {
   "cell_type": "code",
   "execution_count": 59,
   "id": "920bbb38",
   "metadata": {},
   "outputs": [
    {
     "name": "stdout",
     "output_type": "stream",
     "text": [
      "Converting list to tuple\n",
      "<class 'list'>\n",
      "[1, 2, 3, 4, 5]\n",
      "<class 'tuple'>\n",
      "(1, 2, 3, 4, 5)\n"
     ]
    }
   ],
   "source": [
    "print(\"Converting list to tuple\")\n",
    "l1=[1,2,3,4,5]\n",
    "print(type(l1))\n",
    "print(l1)\n",
    "t1=tuple(l1)\n",
    "print(type(t1))\n",
    "print(t1)"
   ]
  },
  {
   "cell_type": "markdown",
   "id": "a72c9354",
   "metadata": {},
   "source": [
    "<b>16. Variables that \"contain\" list values are not necessarily lists themselves. Instead, what do they contain?</b>"
   ]
  },
  {
   "cell_type": "markdown",
   "id": "05302b33",
   "metadata": {},
   "source": [
    "<b>Ans:</b> They contain references to list values.\n",
    "\n"
   ]
  },
  {
   "cell_type": "markdown",
   "id": "789eff95",
   "metadata": {},
   "source": [
    "<b>17. How do you distinguish between copy.copy() and copy.deepcopy()?</b>"
   ]
  },
  {
   "cell_type": "markdown",
   "id": "4d9725b8",
   "metadata": {},
   "source": [
    "<b>Ans:</b> The `copy.copy()` function will do a shallow copy of a list, while the `copy.deepcopy()` function will do a deep copy of a list. That is, only copy.deepcopy() will duplicate any lists inside the list."
   ]
  }
 ],
 "metadata": {
  "kernelspec": {
   "display_name": "Python 3 (ipykernel)",
   "language": "python",
   "name": "python3"
  },
  "language_info": {
   "codemirror_mode": {
    "name": "ipython",
    "version": 3
   },
   "file_extension": ".py",
   "mimetype": "text/x-python",
   "name": "python",
   "nbconvert_exporter": "python",
   "pygments_lexer": "ipython3",
   "version": "3.9.7"
  }
 },
 "nbformat": 4,
 "nbformat_minor": 5
}

{
 "cells": [
  {
   "cell_type": "markdown",
   "id": "1058095b",
   "metadata": {},
   "source": [
    "\n",
    "<b>Assignment 1 Solution :<center>Name:  Bedisa Das<br>Date: 18/2/2022 </center>\n",
    "    \n",
    "    \n"
   ]
  },
  {
   "cell_type": "markdown",
   "id": "b094d779",
   "metadata": {},
   "source": [
    "\n",
    "<b>1. In the below elements which of them are values or an expression? eg:- values can be integer or string and expressions will be mathematical operators.</b> `*` ,`hello`, `-87.8`,`-`,`/`,`+`,`6`  \n",
    "\n"
   ]
  },
  {
   "cell_type": "markdown",
   "id": "aaf7be52",
   "metadata": {},
   "source": [
    "<b>Ans:</b> There are a total of 3 Values and 4 Expressions.<br>\n",
    "Expressions are : `*`,`-`,`/`,`+`<br>\n",
    "Values are: `'hello'`, `-87.8`, `6`"
   ]
  },
  {
   "cell_type": "markdown",
   "id": "c2397a5c",
   "metadata": {},
   "source": [
    "<b>2. What is the difference between string and variable? </b>\n"
   ]
  },
  {
   "cell_type": "markdown",
   "id": "8fc88fd4",
   "metadata": {},
   "source": [
    "<b>Ans:</b> A Variable is used to store of information, and a String is a type of information you would store in a Variable. A String is a group of characters or a single character usually enclosed in Double quotes \" \" or single quotes ' '\n"
   ]
  },
  {
   "cell_type": "markdown",
   "id": "6de84565",
   "metadata": {},
   "source": [
    "<b>3. Describe three different Data Types ?</b>\n"
   ]
  },
  {
   "cell_type": "markdown",
   "id": "ef0d992f",
   "metadata": {},
   "source": [
    "<b>Ans:</b> Three fundamental Data types in python are <b>int, float, complex.</b>\n",
    "\n",
    "<b>int:</b> We can use int data type to represent whole numbers (integral values)<br>\n",
    "<b>float:</b> We can use float data type to represent floating point values (decimal values)<br>\n",
    "<b>complex:</b> Complex number is represented by complex class. It is specified as (real part) + (imaginary part)j."
   ]
  },
  {
   "cell_type": "code",
   "execution_count": 5,
   "id": "68d5a256",
   "metadata": {},
   "outputs": [
    {
     "name": "stdout",
     "output_type": "stream",
     "text": [
      "1234 <class 'int'>\n",
      "5.6 <class 'float'>\n",
      "(1+1j) <class 'complex'>\n"
     ]
    }
   ],
   "source": [
    "# Example for int data type\n",
    "num=1234\n",
    "print(num, type(num))\n",
    "# Example for float data type\n",
    "num1=5.6\n",
    "print(num1, type(num1))\n",
    "# Example for Complex data type\n",
    "num2=1+1j\n",
    "print(num2, type(num2))"
   ]
  },
  {
   "cell_type": "markdown",
   "id": "167cc185",
   "metadata": {},
   "source": [
    "<b>4. What is an expression made up of? What do all expressions do?</b>\n"
   ]
  },
  {
   "cell_type": "markdown",
   "id": "f998cc00",
   "metadata": {},
   "source": [
    "Ans: An expression is a combination of values, variables, operators, and calls to functions. Expressions need to be evaluated. If we ask Python to print an expression, the interpreter evaluates the expression and displays the result."
   ]
  },
  {
   "cell_type": "code",
   "execution_count": 6,
   "id": "ccfe8e38",
   "metadata": {},
   "outputs": [
    {
     "data": {
      "text/plain": [
       "28"
      ]
     },
     "execution_count": 6,
     "metadata": {},
     "output_type": "execute_result"
    }
   ],
   "source": [
    "9+5+20-6 # Is an Expression, The Python Interpreter Evaluates 28"
   ]
  },
  {
   "cell_type": "markdown",
   "id": "53486fb5",
   "metadata": {},
   "source": [
    "<b>5.This assignment statements, like spam = 10. What is the difference between an expression and a statement?</b>\n"
   ]
  },
  {
   "cell_type": "markdown",
   "id": "4f9cbd14",
   "metadata": {},
   "source": [
    "<b>Ans:</b> An expression is a combination of values, variables, and operators.When we type an expression at the prompt, the interpreter evaluates it, which means that it finds the value of the expression.\n",
    "\n",
    "eg: 9+5+20-6 is an example of a Expression\n",
    "\n",
    "A statement is a unit of code that has an effect, like creating a variable or displaying a value.When we type a statement, the interpreter executes it, which means that it does whatever the statement says.\n",
    "\n",
    "eg: variable declaration and assignment are statements because they do not return a value"
   ]
  },
  {
   "cell_type": "code",
   "execution_count": 8,
   "id": "9f9c4178",
   "metadata": {},
   "outputs": [
    {
     "name": "stdout",
     "output_type": "stream",
     "text": [
      "Hello World !\n"
     ]
    }
   ],
   "source": [
    "#Example:\n",
    "9+5+20-6 # Is an Expression\n",
    "courseName = 'INeuron FullStack DataScience' # Is a Statement\n",
    "print(\"Hello World !\") # Is a Statement"
   ]
  },
  {
   "cell_type": "markdown",
   "id": "af0abaa7",
   "metadata": {},
   "source": [
    "<b>6.After running the following code, what does the variable bacon contain?<br>\n",
    "`bacon = 22`\n",
    "`bacon + 1`</b>"
   ]
  },
  {
   "cell_type": "markdown",
   "id": "df244246",
   "metadata": {},
   "source": [
    "<b>Ans:</b> The variable bacon is set to 22 .The expression bacon + 1 does not reassign the value in bacon (that would the case if the expression is like bacon = bacon + 1 instead of bacon + 1)"
   ]
  },
  {
   "cell_type": "code",
   "execution_count": 11,
   "id": "0e97df16",
   "metadata": {},
   "outputs": [
    {
     "name": "stdout",
     "output_type": "stream",
     "text": [
      "22\n"
     ]
    }
   ],
   "source": [
    "# Example Case#1\n",
    "bacon=22\n",
    "bacon+1\n",
    "print(bacon)"
   ]
  },
  {
   "cell_type": "code",
   "execution_count": 12,
   "id": "a85043e6",
   "metadata": {},
   "outputs": [
    {
     "name": "stdout",
     "output_type": "stream",
     "text": [
      "23\n"
     ]
    }
   ],
   "source": [
    "#Example Case#2\n",
    "bacon=22\n",
    "bacon=bacon+1 \n",
    "print(bacon)"
   ]
  },
  {
   "cell_type": "markdown",
   "id": "6b8838ee",
   "metadata": {},
   "source": [
    "<b>7.What should the values of the following two terms be?<br>\n",
    "    \n",
    "`'spam'+'spamspam'`\n",
    "`'spam'*3`</b>\n",
    "\n"
   ]
  },
  {
   "cell_type": "markdown",
   "id": "f0c2a42e",
   "metadata": {},
   "source": [
    "<b>Ans:</b> Both expressions evaluate to the string 'spamspamspam' Where as the first expression follows String Concatentation and the second expression follows String Multiplication"
   ]
  },
  {
   "cell_type": "markdown",
   "id": "b52d92aa",
   "metadata": {},
   "source": [
    "<b>8. Why is eggs a valid variable name while 100 is invalid?</b>\n"
   ]
  },
  {
   "cell_type": "markdown",
   "id": "135b7344",
   "metadata": {},
   "source": [
    "<b>Ans:</b> As per python,Variable names cannot begin with a number. The python rules for naming a variable are :-\n",
    "\n",
    "Variable name must start with a letter or the underscore character.\n",
    "Variable name cannot start with a number.\n",
    "Variable name can only contain alpha-numeric characters and underscores (A-z, 0-9, & _ ).\n",
    "Variable names are case-sensitive (name, INEURON and ineuron are three different variables).\n",
    "The reserved words(keywords) cannot be used naming the variable."
   ]
  },
  {
   "cell_type": "code",
   "execution_count": 17,
   "id": "88cbf934",
   "metadata": {},
   "outputs": [
    {
     "ename": "SyntaxError",
     "evalue": "cannot assign to literal (conda_tmp/ipykernel_9348/1997594759.py, line 2)",
     "output_type": "error",
     "traceback": [
      "\u001b[1;36m  File \u001b[1;32m\"C:\\conda_tmp/ipykernel_9348/1997594759.py\"\u001b[1;36m, line \u001b[1;32m2\u001b[0m\n\u001b[1;33m    100='hello' # Invalid Variable Initilization\u001b[0m\n\u001b[1;37m    ^\u001b[0m\n\u001b[1;31mSyntaxError\u001b[0m\u001b[1;31m:\u001b[0m cannot assign to literal\n"
     ]
    }
   ],
   "source": [
    "gg='Ineuron' # Valid variable Initilization\n",
    "100='hello' # Invalid Variable Initilization\n",
    "print(egg) #prints the value of egg ie Ineuron\n",
    "print(100) # Raises a Syntax Error as 100 is not a valid variable name"
   ]
  },
  {
   "cell_type": "markdown",
   "id": "f6ceac8d",
   "metadata": {},
   "source": [
    "<b>9.What three functions can be used to get the integer,floating-point number,or string version of a value?</b>\n"
   ]
  },
  {
   "cell_type": "markdown",
   "id": "c20f8748",
   "metadata": {},
   "source": [
    "<b>Ans:</b> The int(),float(),and str() functions will evaluate to the integer,floating-point number,string version of the value passed to them.\n",
    "\n"
   ]
  },
  {
   "cell_type": "code",
   "execution_count": 19,
   "id": "89574913",
   "metadata": {},
   "outputs": [
    {
     "name": "stdout",
     "output_type": "stream",
     "text": [
      "int(10.0) ->  10\n",
      "float(10) ->  10.0\n",
      "str(10) ->  10\n"
     ]
    }
   ],
   "source": [
    "# Examples:\n",
    "print('int(10.0) -> ',int(10.0)) # int() function converts given input to int\n",
    "print('float(10) -> ',float(10)) # float() function converts given input to float\n",
    "print('str(10) -> ',str(10)) # str() function converts given input to string"
   ]
  },
  {
   "cell_type": "markdown",
   "id": "e64efaef",
   "metadata": {},
   "source": [
    "<b>10.Why does this expression cause an error? how can you fix it?<br>\n",
    "`'I have eaten ' + 99 + 'burritos.`'</b>\n",
    "\n"
   ]
  },
  {
   "cell_type": "markdown",
   "id": "aafe236e",
   "metadata": {},
   "source": [
    "<b>Ans:</b> This cause of error is 99.because 99 is not a string. 99 must be typecasted to a string to fix this error. the correct way is:<br>\n",
    "Input: 'I have eaten ' + str(99) + 'burritos.'<br>\n",
    "Output: 'I have eaten 99 burritos.'"
   ]
  },
  {
   "cell_type": "code",
   "execution_count": 22,
   "id": "277e9846",
   "metadata": {},
   "outputs": [
    {
     "name": "stdout",
     "output_type": "stream",
     "text": [
      "I have eaten 99 burritos\n"
     ]
    }
   ],
   "source": [
    "print('I have eaten '+str(99)+' burritos')\n"
   ]
  },
  {
   "cell_type": "code",
   "execution_count": null,
   "id": "2c165ca7",
   "metadata": {},
   "outputs": [],
   "source": []
  }
 ],
 "metadata": {
  "kernelspec": {
   "display_name": "Python 3 (ipykernel)",
   "language": "python",
   "name": "python3"
  },
  "language_info": {
   "codemirror_mode": {
    "name": "ipython",
    "version": 3
   },
   "file_extension": ".py",
   "mimetype": "text/x-python",
   "name": "python",
   "nbconvert_exporter": "python",
   "pygments_lexer": "ipython3",
   "version": "3.9.7"
  },
  "varInspector": {
   "cols": {
    "lenName": 16,
    "lenType": 16,
    "lenVar": 40
   },
   "kernels_config": {
    "python": {
     "delete_cmd_postfix": "",
     "delete_cmd_prefix": "del ",
     "library": "var_list.py",
     "varRefreshCmd": "print(var_dic_list())"
    },
    "r": {
     "delete_cmd_postfix": ") ",
     "delete_cmd_prefix": "rm(",
     "library": "var_list.r",
     "varRefreshCmd": "cat(var_dic_list()) "
    }
   },
   "types_to_exclude": [
    "module",
    "function",
    "builtin_function_or_method",
    "instance",
    "_Feature"
   ],
   "window_display": false
  }
 },
 "nbformat": 4,
 "nbformat_minor": 5
}

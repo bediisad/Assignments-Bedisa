{
 "cells": [
  {
   "cell_type": "markdown",
   "id": "b797ffd9",
   "metadata": {},
   "source": [
    "<b>Assignment 2 Solution :<center>Name:  Bedisa Das<br>Date: 19/2/2022 </center>"
   ]
  },
  {
   "cell_type": "markdown",
   "id": "ac4aebf3",
   "metadata": {},
   "source": [
    "<b>1.What are the two values of the boolean data types? how do you write them ?</b>\n"
   ]
  },
  {
   "cell_type": "markdown",
   "id": "4120589b",
   "metadata": {},
   "source": [
    "<b>Ans:</b> `True` and `False` are two values of the boolen data types. "
   ]
  },
  {
   "cell_type": "code",
   "execution_count": 4,
   "id": "d2db81ea",
   "metadata": {},
   "outputs": [
    {
     "name": "stdout",
     "output_type": "stream",
     "text": [
      "True <class 'bool'>\n",
      "False <class 'bool'>\n"
     ]
    }
   ],
   "source": [
    "a=True\n",
    "b=False\n",
    "print(a,type(a))\n",
    "print(b,type(b))"
   ]
  },
  {
   "cell_type": "markdown",
   "id": "7d067a7a",
   "metadata": {},
   "source": [
    "<b>2. What are the three different types of Boolean operators?</b>"
   ]
  },
  {
   "cell_type": "markdown",
   "id": "1175d739",
   "metadata": {},
   "source": [
    "<b>Ans:</b> The three differnt types of Boolean operators in python are: `or` , `and` , `not`\n",
    "\n"
   ]
  },
  {
   "cell_type": "code",
   "execution_count": 11,
   "id": "0cd86587",
   "metadata": {},
   "outputs": [
    {
     "name": "stdout",
     "output_type": "stream",
     "text": [
      "True\n",
      "True\n",
      "False\n"
     ]
    }
   ],
   "source": [
    "a=10\n",
    "b=20\n",
    "print(a>5 and b>10) # Example of boolean and\n",
    "print(a>20 or b>10) # Example of boolean or\n",
    "print(not(a>9)) # Example of boolean not"
   ]
  },
  {
   "cell_type": "markdown",
   "id": "e398338e",
   "metadata": {},
   "source": [
    "<b>3. Make a list of each Boolean operator's truth tables (i.e. every possible combination of Boolean values for the operator and what it evaluate) ?</b>\n"
   ]
  },
  {
   "cell_type": "markdown",
   "id": "f05ed368",
   "metadata": {},
   "source": [
    "<b>Ans:</b> The Truth tables for the boolean tables are as follows:\n",
    "\n",
    "<ul>\n",
    "    <li><b>Truth Table : AND </b></li>\n",
    "        <i>True AND True =True <br></i>\n",
    "        <i>True AND False =False <br></i>\n",
    "        <i>False AND True = False <br></i>\n",
    "        <i> False AND False = False</i>\n",
    "</ul>\n",
    "    <br>\n",
    "<ul>\n",
    "    <li> <b> Truth Table : OR  </b> </li>\n",
    "        <i>True OR True = True</i><br>\n",
    "        <i> True OR False = True</i><br>\n",
    "        <i>False OR True = True</i><br>\n",
    "        <i>  False OR False = False</i><br>\n",
    "</ul>\n",
    "    <br>\n",
    "<ul>\n",
    "    <li> <b> Truth Table : NOT  </b></li>\n",
    "        <i>True NOT = False</i> <br>\n",
    "        <i>False NOT = True</i> <br>\n",
    "    \n",
    "</ul>\n",
    "    \n",
    "    \n",
    "            "
   ]
  },
  {
   "cell_type": "markdown",
   "id": "050fe46f",
   "metadata": {},
   "source": [
    "<b>4. What are the values of the following expressions ?</b><br>\n",
    "`(5 > 4) and (3 == 5)`<br>\n",
    "`not (5 > 4)`<br>\n",
    "`(5 > 4) or (3 == 5`)<br>\n",
    "`not ((5 > 4) or (3 == 5))`<br>\n",
    "`(True and True) and (True == False)`<br>\n",
    "`(not False) or (not True)`<br>\n"
   ]
  },
  {
   "cell_type": "code",
   "execution_count": 13,
   "id": "502879a3",
   "metadata": {},
   "outputs": [
    {
     "name": "stdout",
     "output_type": "stream",
     "text": [
      "False\n",
      "False\n",
      "True\n",
      "False\n",
      "False\n",
      "True\n"
     ]
    }
   ],
   "source": [
    "print((5>4)and(3==5)) # False\n",
    "print(not(5>4)) # False\n",
    "print((5>4)or(3==5)) # True\n",
    "print(not((5>4)or(3==5))) # False\n",
    "print((True and True)and(True==False)) # False\n",
    "print((not False)or(not True)) # True"
   ]
  },
  {
   "cell_type": "markdown",
   "id": "54763fb4",
   "metadata": {},
   "source": [
    "<b>5. What are the six comparison operators?</b>\n"
   ]
  },
  {
   "cell_type": "markdown",
   "id": "36f359c4",
   "metadata": {},
   "source": [
    "<b>Ans:</b> The six comparision operators are as follows:<br>\n",
    "`==` , `!=` , `<` , `>` , `<=` , `=>`"
   ]
  },
  {
   "cell_type": "markdown",
   "id": "12faa1f0",
   "metadata": {},
   "source": [
    "<b>6. How do you tell the difference between the equal to and assignment operators?Describe a condition and when you would use one ?</b>\n"
   ]
  },
  {
   "cell_type": "markdown",
   "id": "4fa9843e",
   "metadata": {},
   "source": [
    "<b>Ans:</b> `==` is the `equal to` operator that compares two values and evaluates to a Boolean, while `=` is that `assignment` operator that stores a value in a variable.\n",
    "\n"
   ]
  },
  {
   "cell_type": "code",
   "execution_count": 22,
   "id": "7110597b",
   "metadata": {},
   "outputs": [
    {
     "name": "stdout",
     "output_type": "stream",
     "text": [
      "True\n",
      "a is equal to 56\n"
     ]
    }
   ],
   "source": [
    "a=56 # Assigning operator that stores 56 value in a variable a\n",
    "if a==56:#comparing values\n",
    "    print(a==56) \n",
    "    print(\"a is equal to 56\")\n",
    "else:\n",
    "    print(\"a is not 56\")"
   ]
  },
  {
   "cell_type": "markdown",
   "id": "d63ad967",
   "metadata": {},
   "source": [
    "<b>7. Identify the three blocks in this code:</b><br>\n",
    "`spam = 0`<br>\n",
    "`if spam == 10:`<br>\n",
    "`print('eggs')`<br>\n",
    "`if spam > 5:`<br>\n",
    "`print('bacon')`<br>\n",
    "`else:`<br>\n",
    "`print('ham')`<br>\n",
    "`print('spam')`<br>\n",
    "`print('spam')`<br>`\n"
   ]
  },
  {
   "cell_type": "code",
   "execution_count": 23,
   "id": "de1429a6",
   "metadata": {},
   "outputs": [
    {
     "name": "stdout",
     "output_type": "stream",
     "text": [
      "ham\n",
      "spam\n",
      "spam\n"
     ]
    }
   ],
   "source": [
    "spam = 0  \n",
    "if spam == 10:  \n",
    "    print('eggs')  # block #1\n",
    "if spam > 5:  \n",
    "    print('bacon')  # block #2\n",
    "else:  \n",
    "    print('ham')  # block #3\n",
    "print('spam')  \n",
    "print('spam')"
   ]
  },
  {
   "cell_type": "markdown",
   "id": "7035c2e0",
   "metadata": {},
   "source": [
    "<b>8. Write code that prints Hello if 1 is stored in spam, prints Howdy if 2 is stored in spam, and prints Greetings! if anything else is stored in spam.</b>"
   ]
  },
  {
   "cell_type": "code",
   "execution_count": 28,
   "id": "ddf9d6f0",
   "metadata": {},
   "outputs": [
    {
     "name": "stdout",
     "output_type": "stream",
     "text": [
      "Enter Spam Value5\n",
      "Greetings!\n"
     ]
    }
   ],
   "source": [
    "def spamcode(spam):\n",
    "    if spam==1:\n",
    "        print(\"Hello\")\n",
    "    elif spam==2:\n",
    "        print(\"Howdy\")\n",
    "    else:\n",
    "        print(\"Greetings!\")\n",
    "spam=int(input('Enter Spam Value'))\n",
    "spamcode(spam)"
   ]
  },
  {
   "cell_type": "markdown",
   "id": "bd25f7aa",
   "metadata": {},
   "source": [
    "<b>9.If your programme is stuck in an endless loop, what keys you’ll press?</b>\n"
   ]
  },
  {
   "cell_type": "markdown",
   "id": "e67d56c3",
   "metadata": {},
   "source": [
    "<b>Ans:</b> Press Ctrl-c to stop a program stuck in an infinite/endless loop."
   ]
  },
  {
   "cell_type": "markdown",
   "id": "cd983ae3",
   "metadata": {},
   "source": [
    "<b>10. How can you tell the difference between break and continue?</b>\n"
   ]
  },
  {
   "cell_type": "markdown",
   "id": "03612ec1",
   "metadata": {},
   "source": [
    "<b>Ans:</b> The break statement will break the loop and move the execution outside the loop if break condtion is satisfied. Whereas the continue statement will move the execution to the next iteration of the loop."
   ]
  },
  {
   "cell_type": "code",
   "execution_count": 36,
   "id": "ba4aa035",
   "metadata": {},
   "outputs": [
    {
     "name": "stdout",
     "output_type": "stream",
     "text": [
      "1\n",
      "2\n",
      "3\n",
      "4\n",
      "6\n",
      "7\n",
      "8\n",
      "9\n",
      "10\n"
     ]
    }
   ],
   "source": [
    "for i in range(1,15):\n",
    "    if i==5:\n",
    "        continue # when i is 5 it is continuing to the next iteration \n",
    "    if i==11:\n",
    "        break #if i is 11 it is breaking the loop\n",
    "        \n",
    "    print(i)"
   ]
  },
  {
   "cell_type": "markdown",
   "id": "6d2e2651",
   "metadata": {},
   "source": [
    "<b>11. In a for loop, what is the difference between range(10), range(0, 10), and range(0, 10, 1)?</b>\n"
   ]
  },
  {
   "cell_type": "markdown",
   "id": "b0868f03",
   "metadata": {},
   "source": [
    "<b>Ans:</b> The Differences are as follows:\n",
    "\n",
    "The `range(10)` call range from 0 to 9 (but not include 10, excluding the upper limit)<br>\n",
    "The `range (0,10)` explicitly tells the loop to start at 0<br>\n",
    "The `range(0,10,1)` explicitly tells the loop to increase the variable by 1 on each iteration<br>"
   ]
  },
  {
   "cell_type": "markdown",
   "id": "d52bb747",
   "metadata": {},
   "source": [
    "\n",
    "<b>12. Write a short program that prints the numbers 1 to 10 using a for loop. Then write an equivalent program that prints the numbers 1 to 10 using a while loop ?</b>"
   ]
  },
  {
   "cell_type": "code",
   "execution_count": 46,
   "id": "d818d6e3",
   "metadata": {},
   "outputs": [
    {
     "name": "stdout",
     "output_type": "stream",
     "text": [
      "Printing 1 to 10 using For Loop:\n",
      "1\n",
      "2\n",
      "3\n",
      "4\n",
      "5\n",
      "6\n",
      "7\n",
      "8\n",
      "9\n",
      "10\n"
     ]
    }
   ],
   "source": [
    "print(\"Printing 1 to 10 using For Loop:\")\n",
    "\n",
    "for i in range(1,11):\n",
    "    print(i)"
   ]
  },
  {
   "cell_type": "code",
   "execution_count": 47,
   "id": "1221b7f5",
   "metadata": {},
   "outputs": [
    {
     "name": "stdout",
     "output_type": "stream",
     "text": [
      "Printing 1 to 10 using While Loop:\n",
      "1\n",
      "2\n",
      "3\n",
      "4\n",
      "5\n",
      "6\n",
      "7\n",
      "8\n",
      "9\n",
      "10\n"
     ]
    }
   ],
   "source": [
    "print(\"Printing 1 to 10 using While Loop:\")\n",
    "i=1\n",
    "while(i<11):\n",
    "    print(i)\n",
    "    i=i+1"
   ]
  },
  {
   "cell_type": "markdown",
   "id": "72eb9164",
   "metadata": {},
   "source": [
    "<b>13. If you had a function named bacon() inside a module named spam, how would you call it after importing spam ?</b>\n"
   ]
  },
  {
   "cell_type": "markdown",
   "id": "ccb879e1",
   "metadata": {},
   "source": [
    "<b>Ans:</b> This function can be called with `spam.bacon()`"
   ]
  },
  {
   "cell_type": "code",
   "execution_count": null,
   "id": "8d2758cd",
   "metadata": {},
   "outputs": [],
   "source": []
  }
 ],
 "metadata": {
  "kernelspec": {
   "display_name": "Python 3 (ipykernel)",
   "language": "python",
   "name": "python3"
  },
  "language_info": {
   "codemirror_mode": {
    "name": "ipython",
    "version": 3
   },
   "file_extension": ".py",
   "mimetype": "text/x-python",
   "name": "python",
   "nbconvert_exporter": "python",
   "pygments_lexer": "ipython3",
   "version": "3.9.7"
  }
 },
 "nbformat": 4,
 "nbformat_minor": 5
}

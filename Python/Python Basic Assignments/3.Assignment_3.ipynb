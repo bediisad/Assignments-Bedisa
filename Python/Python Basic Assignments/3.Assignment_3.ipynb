{
 "cells": [
  {
   "cell_type": "markdown",
   "id": "bd5e2679",
   "metadata": {},
   "source": [
    "<b>Assignment 3 Solution :<center>Name:  Bedisa Das<br>Date: 20/2/2022 </center>"
   ]
  },
  {
   "cell_type": "markdown",
   "id": "ff142f6e",
   "metadata": {},
   "source": [
    "<b>1. Why are functions advantageous to have in your programs?</b>"
   ]
  },
  {
   "cell_type": "markdown",
   "id": "42c49b1f",
   "metadata": {},
   "source": [
    "<b>Ans:</b>  The main advantage of functions is code `Reusability` and code `Modularity`.There are many more advantages of using function which are listed below:<br>\n",
    "<ul>\n",
    "    <li>Functions reduce the need for duplicate code.</li>\n",
    "    <li>Function makes program shorter, easier to read, and easier to update.</li>\n",
    "    \n",
    "</ul>\n",
    "\n"
   ]
  },
  {
   "cell_type": "markdown",
   "id": "22fb62a8",
   "metadata": {},
   "source": [
    "<b>2. When does the code in a function run: when it's specified or when it's called?</b>\n"
   ]
  },
  {
   "cell_type": "markdown",
   "id": "4769252e",
   "metadata": {},
   "source": [
    "<b>Ans:</b> The code in a function executes/run when the function is called, not when the function is specified.\n",
    "\n"
   ]
  },
  {
   "cell_type": "markdown",
   "id": "80150919",
   "metadata": {},
   "source": [
    "<b>3. What statement creates a function?</b>\n"
   ]
  },
  {
   "cell_type": "markdown",
   "id": "d6ed05af",
   "metadata": {},
   "source": [
    "<b>Ans:</b> The `def` statement defines a function:<br>\n",
    "<b>Syntax of Function:</b><br>\n",
    "`def function_name(parameters):\n",
    "    \"\"\"doc string\"\"\"          \n",
    "    -----function body-----\n",
    "    return value`"
   ]
  },
  {
   "cell_type": "code",
   "execution_count": 17,
   "id": "12783ada",
   "metadata": {},
   "outputs": [
    {
     "data": {
      "text/plain": [
       "11"
      ]
     },
     "execution_count": 17,
     "metadata": {},
     "output_type": "execute_result"
    }
   ],
   "source": [
    "#Example \n",
    "def add(a,b):\n",
    "    \"\"\"The function add takes two argument and returns the addition result of it \"\"\"\n",
    "    return a+b\n",
    "add(5,6)"
   ]
  },
  {
   "cell_type": "markdown",
   "id": "fafe0648",
   "metadata": {},
   "source": [
    "<b>4. What is the difference between a function and a function call?</b>\n"
   ]
  },
  {
   "cell_type": "markdown",
   "id": "af054c0c",
   "metadata": {},
   "source": [
    "<b>Ans:</b> A `function` is procedure or set of instructions/code grouped together to perform a particular task. A function contains `function name` and `function body` .<br>\n",
    "while `function call` is calling the function by its `function name` to achive that task and get the ouput returned by the function at any point in program . \n"
   ]
  },
  {
   "cell_type": "markdown",
   "id": "2a973ba1",
   "metadata": {},
   "source": [
    "<b>5. How many global scopes are there in a Python program? How many local scopes?</b>\n"
   ]
  },
  {
   "cell_type": "markdown",
   "id": "fdd0ad8d",
   "metadata": {},
   "source": [
    "<b>Ans:</b> There is one global scope, and a local scope is created whenever we declare a variable within a function or block.\n",
    "\n"
   ]
  },
  {
   "cell_type": "code",
   "execution_count": 22,
   "id": "ac0d0d6b",
   "metadata": {},
   "outputs": [
    {
     "name": "stdout",
     "output_type": "stream",
     "text": [
      "11\n"
     ]
    },
    {
     "ename": "NameError",
     "evalue": "name 'sum_result' is not defined",
     "output_type": "error",
     "traceback": [
      "\u001b[1;31m---------------------------------------------------------------------------\u001b[0m",
      "\u001b[1;31mNameError\u001b[0m                                 Traceback (most recent call last)",
      "\u001b[1;32mC:\\conda_tmp/ipykernel_19420/2513701350.py\u001b[0m in \u001b[0;36m<module>\u001b[1;34m\u001b[0m\n\u001b[0;32m      3\u001b[0m     \u001b[0mprint\u001b[0m\u001b[1;33m(\u001b[0m\u001b[0msum_result\u001b[0m\u001b[1;33m)\u001b[0m\u001b[1;31m# we can print the variable sum_Result here as it is local to add function\u001b[0m\u001b[1;33m\u001b[0m\u001b[1;33m\u001b[0m\u001b[0m\n\u001b[0;32m      4\u001b[0m \u001b[0madd\u001b[0m\u001b[1;33m(\u001b[0m\u001b[1;36m5\u001b[0m\u001b[1;33m,\u001b[0m\u001b[1;36m6\u001b[0m\u001b[1;33m)\u001b[0m\u001b[1;33m\u001b[0m\u001b[1;33m\u001b[0m\u001b[0m\n\u001b[1;32m----> 5\u001b[1;33m \u001b[0mprint\u001b[0m\u001b[1;33m(\u001b[0m\u001b[0msum_result\u001b[0m\u001b[1;33m)\u001b[0m\u001b[1;31m# we cannot print the value of sum_result from here as it was declared in local scope\u001b[0m\u001b[1;33m\u001b[0m\u001b[1;33m\u001b[0m\u001b[0m\n\u001b[0m",
      "\u001b[1;31mNameError\u001b[0m: name 'sum_result' is not defined"
     ]
    }
   ],
   "source": [
    "def add(a,b):\n",
    "    sum_result=a+b\n",
    "    print(sum_result)# we can print the variable sum_Result here as it is local to add function \n",
    "add(5,6)\n",
    "print(sum_result)# we cannot print the value of sum_result from here as it was declared in local scope"
   ]
  },
  {
   "cell_type": "code",
   "execution_count": 44,
   "id": "bee436ff",
   "metadata": {},
   "outputs": [
    {
     "name": "stdout",
     "output_type": "stream",
     "text": [
      "Printing sum_esult from local scope : 11\n",
      "Printing sum_Result from global scope: 0\n"
     ]
    }
   ],
   "source": [
    "sum_result=0\n",
    "def add(a,b):\n",
    "    sum_result=a+b\n",
    "    print(\"Printing sum_esult from local scope :\" ,(sum_result))\n",
    "add(5,6)\n",
    "print(\"Printing sum_Result from global scope:\" ,(sum_result))# we cannot print the value of sum_result from here as it was declared in local scope"
   ]
  },
  {
   "cell_type": "markdown",
   "id": "b15d8874",
   "metadata": {},
   "source": [
    "<b>6. What happens to variables in a local scope when the function call returns?</b>\n",
    "\n"
   ]
  },
  {
   "cell_type": "markdown",
   "id": "d839c643",
   "metadata": {},
   "source": [
    "<b>Ans:</b> When a function returns, the local scope is destroyed, and all the variables in it are forgotten.\n",
    "\n"
   ]
  },
  {
   "cell_type": "markdown",
   "id": "1c633d3c",
   "metadata": {},
   "source": [
    "<b> 7. What is the concept of a return value? Is it possible to have a return value in an expression?</b>\n"
   ]
  },
  {
   "cell_type": "markdown",
   "id": "b7392ff8",
   "metadata": {},
   "source": [
    "<b>Ans:</b> A return value is the value that a function call evaluates to. Like any value, a return value can be used as part of an expression.\n",
    "\n"
   ]
  },
  {
   "cell_type": "code",
   "execution_count": 34,
   "id": "676295ea",
   "metadata": {},
   "outputs": [
    {
     "data": {
      "text/plain": [
       "56"
      ]
     },
     "execution_count": 34,
     "metadata": {},
     "output_type": "execute_result"
    }
   ],
   "source": [
    "#return value in expression\n",
    "def mul(a,b):\n",
    "    return a*b\n",
    "mul(7,8)"
   ]
  },
  {
   "cell_type": "code",
   "execution_count": 35,
   "id": "a59a0f3c",
   "metadata": {},
   "outputs": [
    {
     "data": {
      "text/plain": [
       "56"
      ]
     },
     "execution_count": 35,
     "metadata": {},
     "output_type": "execute_result"
    }
   ],
   "source": [
    "# return value not as expression\n",
    "def mul(a,b):\n",
    "    m=a*b\n",
    "    return m\n",
    "mul(7,8)"
   ]
  },
  {
   "cell_type": "markdown",
   "id": "990c390d",
   "metadata": {},
   "source": [
    "<b>8. If a function does not have a return statement, what is the return value of a call to that function?</b>\n"
   ]
  },
  {
   "cell_type": "markdown",
   "id": "d31eceea",
   "metadata": {},
   "source": [
    "<b>Ans:</b> If there is no return statement for a function, its return value is `None`.\n",
    "\n"
   ]
  },
  {
   "cell_type": "markdown",
   "id": "102e219c",
   "metadata": {},
   "source": [
    "<b>9. How do you make a function variable refer to the global variable?</b>\n"
   ]
  },
  {
   "cell_type": "markdown",
   "id": "38b2a977",
   "metadata": {},
   "source": [
    "<b>Ans:</b> A global statement will force a variable in a function to refer to the global variable. If you want to refer to a global variable in a function, you can use the global keyword to declare which variables are global."
   ]
  },
  {
   "cell_type": "code",
   "execution_count": 40,
   "id": "804c1cf1",
   "metadata": {},
   "outputs": [
    {
     "name": "stdout",
     "output_type": "stream",
     "text": [
      "Printing sum_esult from local scope : 11\n",
      "Printing sum_Result from global scope: 11\n"
     ]
    }
   ],
   "source": [
    "#example\n",
    "sum_result=0\n",
    "def add(a,b):\n",
    "    global sum_result\n",
    "    sum_result=a+b\n",
    "    print(\"Printing sum_esult inside add function  :\" ,(sum_result))\n",
    "add(5,6)\n",
    "print(\"Printing sum_Result outside add function:\" ,(sum_result))# we cannot print the value of sum_result from here as it was declared in local scope"
   ]
  },
  {
   "cell_type": "markdown",
   "id": "00687423",
   "metadata": {},
   "source": [
    "<b>10. What is the data type of None?</b>\n"
   ]
  },
  {
   "cell_type": "markdown",
   "id": "0b00e4ba",
   "metadata": {},
   "source": [
    "<b>Ans:</b> The data type of None is `NoneType`.\n",
    "\n"
   ]
  },
  {
   "cell_type": "code",
   "execution_count": 45,
   "id": "75898863",
   "metadata": {},
   "outputs": [
    {
     "data": {
      "text/plain": [
       "NoneType"
      ]
     },
     "execution_count": 45,
     "metadata": {},
     "output_type": "execute_result"
    }
   ],
   "source": [
    "type(None)"
   ]
  },
  {
   "cell_type": "markdown",
   "id": "a34f8321",
   "metadata": {},
   "source": [
    "<b>11. What does the sentence import areallyourpetsnamederic do?</b>\n"
   ]
  },
  {
   "cell_type": "markdown",
   "id": "183bae8e",
   "metadata": {},
   "source": [
    "<b>Ans:</b> That import statement imports a module named areallyourpetsnamederic.\n",
    "\n"
   ]
  },
  {
   "cell_type": "markdown",
   "id": "73a817fc",
   "metadata": {},
   "source": [
    "<b>12. If you had a bacon() feature in a spam module, what would you call it after importing spam?</b>\n"
   ]
  },
  {
   "cell_type": "markdown",
   "id": "d5b96422",
   "metadata": {},
   "source": [
    "<b>Ans:</b> This function can be called with `spam.bacon()`.\n",
    "\n"
   ]
  },
  {
   "cell_type": "markdown",
   "id": "95ed1e9b",
   "metadata": {},
   "source": [
    "<b>13. What can you do to save a programme from crashing if it encounters an error?</b>\n"
   ]
  },
  {
   "cell_type": "markdown",
   "id": "50f156f9",
   "metadata": {},
   "source": [
    "<b>Ans:</b> Place the line of code that might cause an error in a try clause and use except block to handle the error.\n",
    "\n"
   ]
  },
  {
   "cell_type": "code",
   "execution_count": 48,
   "id": "1cad9ac6",
   "metadata": {},
   "outputs": [
    {
     "data": {
      "text/plain": [
       "10"
      ]
     },
     "execution_count": 48,
     "metadata": {},
     "output_type": "execute_result"
    }
   ],
   "source": [
    "def add(a,b):\n",
    "    try:\n",
    "        addd = a+b\n",
    "        return addd\n",
    "    except:\n",
    "        print(\"Unable to add\")\n",
    "add(4,6)"
   ]
  },
  {
   "cell_type": "markdown",
   "id": "34cdd4ad",
   "metadata": {},
   "source": [
    "<b>14. What is the purpose of the try clause? What is the purpose of the except clause?</b>\n"
   ]
  },
  {
   "cell_type": "markdown",
   "id": "1e155f7e",
   "metadata": {},
   "source": [
    "<b>Ans:</b>The code that could potentially cause an error goes in the try clause. The code that executes if an error happens goes in the except clause."
   ]
  }
 ],
 "metadata": {
  "kernelspec": {
   "display_name": "Python 3 (ipykernel)",
   "language": "python",
   "name": "python3"
  },
  "language_info": {
   "codemirror_mode": {
    "name": "ipython",
    "version": 3
   },
   "file_extension": ".py",
   "mimetype": "text/x-python",
   "name": "python",
   "nbconvert_exporter": "python",
   "pygments_lexer": "ipython3",
   "version": "3.9.7"
  }
 },
 "nbformat": 4,
 "nbformat_minor": 5
}
